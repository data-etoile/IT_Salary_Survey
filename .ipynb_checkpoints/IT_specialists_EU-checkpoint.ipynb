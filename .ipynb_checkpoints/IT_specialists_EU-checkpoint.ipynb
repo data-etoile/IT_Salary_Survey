{
 "cells": [
  {
   "cell_type": "code",
   "execution_count": null,
   "id": "09c481d5",
   "metadata": {},
   "outputs": [],
   "source": []
  },
  {
   "cell_type": "code",
   "execution_count": 1,
   "id": "e28771d6",
   "metadata": {},
   "outputs": [],
   "source": [
    "import pandas as pd\n",
    "from scipy import stats\n",
    "import plotly.graph_objects as go\n",
    "import plotly.express as px\n",
    "import matplotlib.pyplot as plt\n",
    "import seaborn as sns\n"
   ]
  },
  {
   "cell_type": "markdown",
   "id": "fbc61458",
   "metadata": {},
   "source": [
    "# Importing data sets\n"
   ]
  },
  {
   "cell_type": "code",
   "execution_count": 3,
   "id": "70377ba1",
   "metadata": {},
   "outputs": [
    {
     "ename": "FileNotFoundError",
     "evalue": "[Errno 2] No such file or directory: 'IT Salary Survey EU 2020.csv'",
     "output_type": "error",
     "traceback": [
      "\u001b[0;31m---------------------------------------------------------------------------\u001b[0m",
      "\u001b[0;31mFileNotFoundError\u001b[0m                         Traceback (most recent call last)",
      "\u001b[0;32m/var/folders/ys/194drt5s6dgddj991xr31bcc0000gn/T/ipykernel_15598/815726151.py\u001b[0m in \u001b[0;36m<module>\u001b[0;34m\u001b[0m\n\u001b[0;32m----> 1\u001b[0;31m \u001b[0mdf20\u001b[0m \u001b[0;34m=\u001b[0m \u001b[0mpd\u001b[0m\u001b[0;34m.\u001b[0m\u001b[0mread_csv\u001b[0m\u001b[0;34m(\u001b[0m\u001b[0;34m'IT Salary Survey EU 2020.csv'\u001b[0m\u001b[0;34m)\u001b[0m\u001b[0;34m\u001b[0m\u001b[0;34m\u001b[0m\u001b[0m\n\u001b[0m",
      "\u001b[0;32m~/opt/anaconda3/lib/python3.9/site-packages/pandas/util/_decorators.py\u001b[0m in \u001b[0;36mwrapper\u001b[0;34m(*args, **kwargs)\u001b[0m\n\u001b[1;32m    309\u001b[0m                     \u001b[0mstacklevel\u001b[0m\u001b[0;34m=\u001b[0m\u001b[0mstacklevel\u001b[0m\u001b[0;34m,\u001b[0m\u001b[0;34m\u001b[0m\u001b[0;34m\u001b[0m\u001b[0m\n\u001b[1;32m    310\u001b[0m                 )\n\u001b[0;32m--> 311\u001b[0;31m             \u001b[0;32mreturn\u001b[0m \u001b[0mfunc\u001b[0m\u001b[0;34m(\u001b[0m\u001b[0;34m*\u001b[0m\u001b[0margs\u001b[0m\u001b[0;34m,\u001b[0m \u001b[0;34m**\u001b[0m\u001b[0mkwargs\u001b[0m\u001b[0;34m)\u001b[0m\u001b[0;34m\u001b[0m\u001b[0;34m\u001b[0m\u001b[0m\n\u001b[0m\u001b[1;32m    312\u001b[0m \u001b[0;34m\u001b[0m\u001b[0m\n\u001b[1;32m    313\u001b[0m         \u001b[0;32mreturn\u001b[0m \u001b[0mwrapper\u001b[0m\u001b[0;34m\u001b[0m\u001b[0;34m\u001b[0m\u001b[0m\n",
      "\u001b[0;32m~/opt/anaconda3/lib/python3.9/site-packages/pandas/io/parsers/readers.py\u001b[0m in \u001b[0;36mread_csv\u001b[0;34m(filepath_or_buffer, sep, delimiter, header, names, index_col, usecols, squeeze, prefix, mangle_dupe_cols, dtype, engine, converters, true_values, false_values, skipinitialspace, skiprows, skipfooter, nrows, na_values, keep_default_na, na_filter, verbose, skip_blank_lines, parse_dates, infer_datetime_format, keep_date_col, date_parser, dayfirst, cache_dates, iterator, chunksize, compression, thousands, decimal, lineterminator, quotechar, quoting, doublequote, escapechar, comment, encoding, encoding_errors, dialect, error_bad_lines, warn_bad_lines, on_bad_lines, delim_whitespace, low_memory, memory_map, float_precision, storage_options)\u001b[0m\n\u001b[1;32m    676\u001b[0m     \u001b[0mkwds\u001b[0m\u001b[0;34m.\u001b[0m\u001b[0mupdate\u001b[0m\u001b[0;34m(\u001b[0m\u001b[0mkwds_defaults\u001b[0m\u001b[0;34m)\u001b[0m\u001b[0;34m\u001b[0m\u001b[0;34m\u001b[0m\u001b[0m\n\u001b[1;32m    677\u001b[0m \u001b[0;34m\u001b[0m\u001b[0m\n\u001b[0;32m--> 678\u001b[0;31m     \u001b[0;32mreturn\u001b[0m \u001b[0m_read\u001b[0m\u001b[0;34m(\u001b[0m\u001b[0mfilepath_or_buffer\u001b[0m\u001b[0;34m,\u001b[0m \u001b[0mkwds\u001b[0m\u001b[0;34m)\u001b[0m\u001b[0;34m\u001b[0m\u001b[0;34m\u001b[0m\u001b[0m\n\u001b[0m\u001b[1;32m    679\u001b[0m \u001b[0;34m\u001b[0m\u001b[0m\n\u001b[1;32m    680\u001b[0m \u001b[0;34m\u001b[0m\u001b[0m\n",
      "\u001b[0;32m~/opt/anaconda3/lib/python3.9/site-packages/pandas/io/parsers/readers.py\u001b[0m in \u001b[0;36m_read\u001b[0;34m(filepath_or_buffer, kwds)\u001b[0m\n\u001b[1;32m    573\u001b[0m \u001b[0;34m\u001b[0m\u001b[0m\n\u001b[1;32m    574\u001b[0m     \u001b[0;31m# Create the parser.\u001b[0m\u001b[0;34m\u001b[0m\u001b[0;34m\u001b[0m\u001b[0m\n\u001b[0;32m--> 575\u001b[0;31m     \u001b[0mparser\u001b[0m \u001b[0;34m=\u001b[0m \u001b[0mTextFileReader\u001b[0m\u001b[0;34m(\u001b[0m\u001b[0mfilepath_or_buffer\u001b[0m\u001b[0;34m,\u001b[0m \u001b[0;34m**\u001b[0m\u001b[0mkwds\u001b[0m\u001b[0;34m)\u001b[0m\u001b[0;34m\u001b[0m\u001b[0;34m\u001b[0m\u001b[0m\n\u001b[0m\u001b[1;32m    576\u001b[0m \u001b[0;34m\u001b[0m\u001b[0m\n\u001b[1;32m    577\u001b[0m     \u001b[0;32mif\u001b[0m \u001b[0mchunksize\u001b[0m \u001b[0;32mor\u001b[0m \u001b[0miterator\u001b[0m\u001b[0;34m:\u001b[0m\u001b[0;34m\u001b[0m\u001b[0;34m\u001b[0m\u001b[0m\n",
      "\u001b[0;32m~/opt/anaconda3/lib/python3.9/site-packages/pandas/io/parsers/readers.py\u001b[0m in \u001b[0;36m__init__\u001b[0;34m(self, f, engine, **kwds)\u001b[0m\n\u001b[1;32m    930\u001b[0m \u001b[0;34m\u001b[0m\u001b[0m\n\u001b[1;32m    931\u001b[0m         \u001b[0mself\u001b[0m\u001b[0;34m.\u001b[0m\u001b[0mhandles\u001b[0m\u001b[0;34m:\u001b[0m \u001b[0mIOHandles\u001b[0m \u001b[0;34m|\u001b[0m \u001b[0;32mNone\u001b[0m \u001b[0;34m=\u001b[0m \u001b[0;32mNone\u001b[0m\u001b[0;34m\u001b[0m\u001b[0;34m\u001b[0m\u001b[0m\n\u001b[0;32m--> 932\u001b[0;31m         \u001b[0mself\u001b[0m\u001b[0;34m.\u001b[0m\u001b[0m_engine\u001b[0m \u001b[0;34m=\u001b[0m \u001b[0mself\u001b[0m\u001b[0;34m.\u001b[0m\u001b[0m_make_engine\u001b[0m\u001b[0;34m(\u001b[0m\u001b[0mf\u001b[0m\u001b[0;34m,\u001b[0m \u001b[0mself\u001b[0m\u001b[0;34m.\u001b[0m\u001b[0mengine\u001b[0m\u001b[0;34m)\u001b[0m\u001b[0;34m\u001b[0m\u001b[0;34m\u001b[0m\u001b[0m\n\u001b[0m\u001b[1;32m    933\u001b[0m \u001b[0;34m\u001b[0m\u001b[0m\n\u001b[1;32m    934\u001b[0m     \u001b[0;32mdef\u001b[0m \u001b[0mclose\u001b[0m\u001b[0;34m(\u001b[0m\u001b[0mself\u001b[0m\u001b[0;34m)\u001b[0m\u001b[0;34m:\u001b[0m\u001b[0;34m\u001b[0m\u001b[0;34m\u001b[0m\u001b[0m\n",
      "\u001b[0;32m~/opt/anaconda3/lib/python3.9/site-packages/pandas/io/parsers/readers.py\u001b[0m in \u001b[0;36m_make_engine\u001b[0;34m(self, f, engine)\u001b[0m\n\u001b[1;32m   1214\u001b[0m             \u001b[0;31m# \"Union[str, PathLike[str], ReadCsvBuffer[bytes], ReadCsvBuffer[str]]\"\u001b[0m\u001b[0;34m\u001b[0m\u001b[0;34m\u001b[0m\u001b[0m\n\u001b[1;32m   1215\u001b[0m             \u001b[0;31m# , \"str\", \"bool\", \"Any\", \"Any\", \"Any\", \"Any\", \"Any\"\u001b[0m\u001b[0;34m\u001b[0m\u001b[0;34m\u001b[0m\u001b[0m\n\u001b[0;32m-> 1216\u001b[0;31m             self.handles = get_handle(  # type: ignore[call-overload]\n\u001b[0m\u001b[1;32m   1217\u001b[0m                 \u001b[0mf\u001b[0m\u001b[0;34m,\u001b[0m\u001b[0;34m\u001b[0m\u001b[0;34m\u001b[0m\u001b[0m\n\u001b[1;32m   1218\u001b[0m                 \u001b[0mmode\u001b[0m\u001b[0;34m,\u001b[0m\u001b[0;34m\u001b[0m\u001b[0;34m\u001b[0m\u001b[0m\n",
      "\u001b[0;32m~/opt/anaconda3/lib/python3.9/site-packages/pandas/io/common.py\u001b[0m in \u001b[0;36mget_handle\u001b[0;34m(path_or_buf, mode, encoding, compression, memory_map, is_text, errors, storage_options)\u001b[0m\n\u001b[1;32m    784\u001b[0m         \u001b[0;32mif\u001b[0m \u001b[0mioargs\u001b[0m\u001b[0;34m.\u001b[0m\u001b[0mencoding\u001b[0m \u001b[0;32mand\u001b[0m \u001b[0;34m\"b\"\u001b[0m \u001b[0;32mnot\u001b[0m \u001b[0;32min\u001b[0m \u001b[0mioargs\u001b[0m\u001b[0;34m.\u001b[0m\u001b[0mmode\u001b[0m\u001b[0;34m:\u001b[0m\u001b[0;34m\u001b[0m\u001b[0;34m\u001b[0m\u001b[0m\n\u001b[1;32m    785\u001b[0m             \u001b[0;31m# Encoding\u001b[0m\u001b[0;34m\u001b[0m\u001b[0;34m\u001b[0m\u001b[0m\n\u001b[0;32m--> 786\u001b[0;31m             handle = open(\n\u001b[0m\u001b[1;32m    787\u001b[0m                 \u001b[0mhandle\u001b[0m\u001b[0;34m,\u001b[0m\u001b[0;34m\u001b[0m\u001b[0;34m\u001b[0m\u001b[0m\n\u001b[1;32m    788\u001b[0m                 \u001b[0mioargs\u001b[0m\u001b[0;34m.\u001b[0m\u001b[0mmode\u001b[0m\u001b[0;34m,\u001b[0m\u001b[0;34m\u001b[0m\u001b[0;34m\u001b[0m\u001b[0m\n",
      "\u001b[0;31mFileNotFoundError\u001b[0m: [Errno 2] No such file or directory: 'IT Salary Survey EU 2020.csv'"
     ]
    }
   ],
   "source": [
    "df20 = pd.read_csv('IT Salary Survey EU 2020.csv')"
   ]
  },
  {
   "cell_type": "markdown",
   "id": "acbcfc38",
   "metadata": {},
   "source": [
    "# Understanding Data"
   ]
  },
  {
   "cell_type": "code",
   "execution_count": null,
   "id": "bc2325de",
   "metadata": {},
   "outputs": [],
   "source": [
    "df20.head(3)"
   ]
  },
  {
   "cell_type": "code",
   "execution_count": null,
   "id": "6a92749c",
   "metadata": {},
   "outputs": [],
   "source": [
    "# Check the dimensions of the dataset to know the number of rows and columns.\n",
    "df20.shape"
   ]
  },
  {
   "cell_type": "code",
   "execution_count": null,
   "id": "e0dd45bc",
   "metadata": {},
   "outputs": [],
   "source": [
    "df20.columns"
   ]
  },
  {
   "cell_type": "code",
   "execution_count": null,
   "id": "518a6924",
   "metadata": {},
   "outputs": [],
   "source": [
    "#renaming columns name\n",
    "df20 = df20.rename(columns={'Position ':'Position',\n",
    "'Annual bonus+stocks one year ago. Only answer if staying in same country':'bonus_last_year',\n",
    "                     'Annual bonus+stocks one year ago. Only answer if staying in same country':'bonus__year_ago',\n",
    "                     'Annual brutto salary (without bonus and stocks) one year ago. Only answer if staying in the same country':'salary_brutto_nobonus_year_ago',\n",
    "                    'Have you been forced to have a shorter working week (Kurzarbeit)? If yes, how many hours per week':'shorter_working_hour_week',\n",
    "                    'Have you lost your job due to the coronavirus outbreak?':'COVID_lost_job',\n",
    "                    'Have you received additional monetary support from your employer due to Work From Home? If yes, how much in 2020 in EUR':'support_work_home',\n",
    "                    'Other technologies/programming languages you use often':'other_progr_lang',\n",
    "                    'Your main technology / programming language':'main_progr_lang',\n",
    "                    'Yearly brutto salary (without bonus and stocks) in EUR':'salary_brutto',\n",
    "                    'Total years of experience': 'experience_years',\n",
    "                    'Years of experience in Germany':'experience_years_DE',\n",
    "                    'Yearly bonus + stocks in EUR':'bonnus',\n",
    "                    'Main language at work':'main_language',\n",
    "                    'Сontract duration':'contract_duration',\n",
    "                    'Seniority level':'seniority_level',\n",
    "                    'Number of vacation days':'vacation_days',\n",
    "                    'Employment status':'employment_status',\n",
    "                    'Company size':'company_size',\n",
    "                    'Company type':'company_type'})\n"
   ]
  },
  {
   "cell_type": "code",
   "execution_count": null,
   "id": "e35b62e1",
   "metadata": {},
   "outputs": [],
   "source": [
    "# get information about data types, non-null counts, and memory usage.\n",
    "df20.info()"
   ]
  },
  {
   "cell_type": "markdown",
   "id": "45fe973e",
   "metadata": {},
   "source": [
    "# Handling Missing Data:"
   ]
  },
  {
   "cell_type": "code",
   "execution_count": null,
   "id": "a43b8f21",
   "metadata": {},
   "outputs": [],
   "source": [
    "plt.figure(figsize=(10,10))\n",
    "sns.heatmap(df20.isnull())\n",
    "plt.show()"
   ]
  },
  {
   "cell_type": "code",
   "execution_count": null,
   "id": "07a28798",
   "metadata": {},
   "outputs": [],
   "source": [
    "# Calculate the percentage of NaN values for each column in df20\n",
    "nan_percentage = df20.isnull().mean() * 100\n",
    "\n",
    "nan_percentage"
   ]
  },
  {
   "cell_type": "code",
   "execution_count": null,
   "id": "c5f05932",
   "metadata": {},
   "outputs": [],
   "source": [
    "# Drop columns that have more than 50% NaN values\n",
    "threshold = 50  # Set the threshold percentage\n",
    "columns_to_drop = nan_percentage[nan_percentage > threshold].index\n",
    "df20 = df20.drop(columns=columns_to_drop)\n",
    "\n",
    "# Now df20 contains columns that have less than or equal to 50% NaN values\n"
   ]
  },
  {
   "cell_type": "code",
   "execution_count": null,
   "id": "13a86107",
   "metadata": {},
   "outputs": [],
   "source": [
    "# additionaly we will drop 2 columns that we dont use them \n",
    "#- bonus and -salary_brutto-nobonus_yearago  \n",
    "columns_to_drop = ['bonnus', 'salary_brutto_nobonus_year_ago','Timestamp']\n",
    "df20 = df20.drop(columns=columns_to_drop)"
   ]
  },
  {
   "cell_type": "code",
   "execution_count": null,
   "id": "4da077cb",
   "metadata": {},
   "outputs": [],
   "source": [
    "# Calculate the percentage of NaN values for each row in df20\n",
    "nan_percentage = df20.isnull().mean(axis=1) * 100\n",
    "threshold = 50  \n",
    "df20[nan_percentage>threshold]"
   ]
  },
  {
   "cell_type": "code",
   "execution_count": null,
   "id": "2d905129",
   "metadata": {},
   "outputs": [],
   "source": [
    "rows_to_drop = nan_percentage[nan_percentage > threshold].index\n",
    "df20 = df20.drop(index=rows_to_drop)\n",
    "\n",
    "# Now df20 contains rows that have less than or equal to 60% NaN values\n"
   ]
  },
  {
   "cell_type": "code",
   "execution_count": null,
   "id": "094a28a0",
   "metadata": {},
   "outputs": [],
   "source": [
    "df20.info()"
   ]
  },
  {
   "cell_type": "code",
   "execution_count": null,
   "id": "b7f647f1",
   "metadata": {},
   "outputs": [],
   "source": [
    "df20['salary_brutto'] = df20['salary_brutto'].astype(int)"
   ]
  },
  {
   "cell_type": "code",
   "execution_count": null,
   "id": "1cc67dc4",
   "metadata": {},
   "outputs": [],
   "source": []
  },
  {
   "cell_type": "code",
   "execution_count": null,
   "id": "e6d5b48b",
   "metadata": {},
   "outputs": [],
   "source": []
  },
  {
   "cell_type": "markdown",
   "id": "4025fb84",
   "metadata": {},
   "source": [
    "# Age column Cleaning"
   ]
  },
  {
   "cell_type": "markdown",
   "id": "8763fea1",
   "metadata": {},
   "source": [
    " - To replace the missing values in the \"Age\" column based on the \"experience_years\" column, we can calculate the mean age for each unique value in the \"experience_years\" column and then use these means to fill in the missing age values.\n",
    "\n",
    "- Lets check the values from 'experience_years' and fix errors "
   ]
  },
  {
   "cell_type": "code",
   "execution_count": null,
   "id": "dbfda88a",
   "metadata": {},
   "outputs": [],
   "source": [
    "unique_values = df20['experience_years'].unique().tolist()\n",
    "print(unique_values)"
   ]
  },
  {
   "cell_type": "code",
   "execution_count": null,
   "id": "03530d12",
   "metadata": {},
   "outputs": [],
   "source": [
    "# fixing errors in df['experience_years']\n",
    "\n",
    "dics ={\n",
    "'1 (as QA Engineer) / 11 in total':'11',\n",
    "'15, thereof 8 as CTO':'15',\n",
    "'6 (not as a data scientist, but as a lab scientist)':'6',\n",
    "'383':'nan',\n",
    "'less than year':'1','7.5':'8'}\n",
    "\n",
    "for i in dics:\n",
    "    df20['experience_years'] = df20['experience_years'].apply(lambda x:dics.get(i) if (x==i) else x )"
   ]
  },
  {
   "cell_type": "code",
   "execution_count": null,
   "id": "5faf7195",
   "metadata": {},
   "outputs": [],
   "source": [
    "# We will fill age with mean depending of 'experience_years'\n",
    "df20['Age'] = df20['Age'].fillna(df20.groupby('experience_years')['Age'].transform('mean'))"
   ]
  },
  {
   "cell_type": "code",
   "execution_count": null,
   "id": "a2d14f94",
   "metadata": {},
   "outputs": [],
   "source": [
    "# check the result \n",
    "pd.set_option('display.max_columns',None) # display all columns \n",
    "age_nan = df20[df20['Age'].isnull()]\n",
    "age_nan"
   ]
  },
  {
   "cell_type": "markdown",
   "id": "8046415e",
   "metadata": {},
   "source": [
    "- To fill the remaining NaN values in the \"Age\" column we can use mean age based on the \"seniority_level\" column\n",
    "\n"
   ]
  },
  {
   "cell_type": "code",
   "execution_count": null,
   "id": "25c52414",
   "metadata": {},
   "outputs": [],
   "source": [
    "#fill Age column with the mean Age grouped by Salary\n",
    "df20['Age'] = df20['Age'].fillna(df20.groupby('seniority_level')['Age'].transform('mean'))"
   ]
  },
  {
   "cell_type": "code",
   "execution_count": null,
   "id": "1932d5a4",
   "metadata": {},
   "outputs": [],
   "source": [
    "df20['Age']=df20['Age'].astype(int)"
   ]
  },
  {
   "cell_type": "code",
   "execution_count": null,
   "id": "82e942f5",
   "metadata": {},
   "outputs": [],
   "source": [
    "df20[df20['Age'].isnull()]"
   ]
  },
  {
   "cell_type": "code",
   "execution_count": null,
   "id": "db1d5349",
   "metadata": {},
   "outputs": [],
   "source": []
  },
  {
   "cell_type": "code",
   "execution_count": null,
   "id": "576efab7",
   "metadata": {},
   "outputs": [],
   "source": []
  },
  {
   "cell_type": "markdown",
   "id": "3aca9fe3",
   "metadata": {},
   "source": [
    "# Salary"
   ]
  },
  {
   "cell_type": "code",
   "execution_count": null,
   "id": "b98fa3b0",
   "metadata": {},
   "outputs": [],
   "source": [
    "# Round the 'salary_brutto' to the nearest thousand and convert to integers in order to have groups of salary\n",
    "df20['salary_brutto'] = (df20['salary_brutto'] / 1000).round() * 1000"
   ]
  },
  {
   "cell_type": "code",
   "execution_count": null,
   "id": "d4ce7b2c",
   "metadata": {},
   "outputs": [],
   "source": [
    "# detect outliers df20['Salary brutto']\n",
    "z_scores = stats.zscore(df20['salary_brutto'])\n",
    "outliers = df20[abs(z_scores) > 3]\n",
    "outliers"
   ]
  },
  {
   "cell_type": "code",
   "execution_count": null,
   "id": "4da921cd",
   "metadata": {},
   "outputs": [],
   "source": [
    "# Keep only the rows that do not contain outliers \n",
    "df20 = df20[(abs(z_scores) <= 3)]\n"
   ]
  },
  {
   "cell_type": "code",
   "execution_count": null,
   "id": "6cea99ea",
   "metadata": {},
   "outputs": [],
   "source": [
    "import plotly.express as px\n",
    "fig = px.box(df20, y='salary_brutto')\n",
    "fig.update_layout(\n",
    "    paper_bgcolor='black',  # Set the background color to black\n",
    "    plot_bgcolor='black',   # Set the plot area background color to black\n",
    "    font=dict(color='white'),  # Set the font color to white for better visibility\n",
    "    yaxis=dict(gridcolor='black',gridwidth=0.1),\n",
    "    yaxis_title='Yearly Brutto Salary (EUR)'\n",
    ")\n",
    "\n",
    "fig.show()\n"
   ]
  },
  {
   "cell_type": "code",
   "execution_count": null,
   "id": "6b44a1a3",
   "metadata": {},
   "outputs": [],
   "source": [
    " df20[df20['salary_brutto']>=800000]"
   ]
  },
  {
   "cell_type": "markdown",
   "id": "5403541b",
   "metadata": {},
   "source": [
    "## Salary Visualisation"
   ]
  },
  {
   "cell_type": "code",
   "execution_count": null,
   "id": "f2fa34ab",
   "metadata": {},
   "outputs": [],
   "source": [
    "# Filter the DataFrame to exclude the max value\n",
    "max_value = df20['salary_brutto'].max()\n",
    "df_filtered = df20[df20['salary_brutto'] != max_value]\n",
    "\n",
    "fig = px.box(df_filtered, y='salary_brutto')\n",
    "fig.update_layout(\n",
    "    title='Salary Distribution of IT Specialists in Europe',   # Set the chart title\n",
    "    title_x=0.5,  \n",
    "    yaxis_title='Yearly Brutto Salary (EUR)',\n",
    "    paper_bgcolor='black',  # Set the background color to black\n",
    "    plot_bgcolor='black',   # Set the plot area background color to black\n",
    "    font=dict(color='white'),  # Set the font color to white for better visibility\n",
    "    yaxis=dict(gridcolor='black',gridwidth=0.1)\n",
    ")\n",
    "\n",
    "fig.show()\n"
   ]
  },
  {
   "cell_type": "markdown",
   "id": "6859c04b",
   "metadata": {},
   "source": [
    " **Comment**\n",
    "\n",
    "- The average salary is approximately **70,000 EUR.**\n",
    "\n",
    "- The Q3 (75th percentile) value is around **80,000 EUR, indicating that 75% of the salaries fall below this threshold.\n",
    "- The Q1 (25th percentile) value is approximately **58,000 EUR, illustrating that 25% of the salaries fall below this value.\n",
    "\n",
    "- The upper fence, which is located at approximately 113,000 EUR, suggests that any salary above this value could be considered an outlier.\n",
    "- The maximum salary is **850,000 EUR** (omited from chart), signifying the highest recorded salary and the presence of **outliers**, as they fall far outside the box plot's whiskers.\n",
    "\n",
    "- The lower fence, located at around 25,000 EUR, suggests that any salary below this value could also be considered an outlier\n",
    "- The minimum salary is around **10,000 EUR,** which indicates the **lowest recorded salary in the dataset.\n"
   ]
  },
  {
   "cell_type": "markdown",
   "id": "5663ff6c",
   "metadata": {},
   "source": [
    "## Age vizualisation"
   ]
  },
  {
   "cell_type": "code",
   "execution_count": null,
   "id": "ecc5d404",
   "metadata": {},
   "outputs": [],
   "source": [
    "fig = px.histogram(df20, x='Age', nbins=25, histnorm='percent', color_discrete_sequence=['skyblue'])  \n",
    "\n",
    "# Calculer la moyenne pour afficher la ligne d'annotation\n",
    "mean_age = df20['Age'].mean()\n",
    "\n",
    "\n",
    "fig.update_layout(\n",
    "    title='Distribution of IT specialists in Germany',   # Set the chart title\n",
    "    xaxis_title='Age',          # Set the x-axis title\n",
    "    yaxis_title='Percentage',    # Set the y-axis title to indicate percentages\n",
    "    title_x=0.5,                # Center the chart title horizontally\n",
    "    paper_bgcolor='black',      # Set the background color to black\n",
    "    plot_bgcolor='black',       # Set the plot area background color to black\n",
    "    font_color='white',         # Set the font color for text elements to white\n",
    "    xaxis=dict(showgrid=False), # Remove the x-axis grid lines\n",
    "    yaxis=dict(showgrid=False)  # Remove the y-axis grid lines\n",
    ")\n",
    "\n",
    "fig.update_traces(marker_line_color='black',  # Set the color of the bar outlines to black\n",
    "                  marker_line_width=1)  # Set the width of the bar outlines\n",
    "\n",
    "fig.add_shape(\n",
    "    type='line',\n",
    "    x0=mean_age,\n",
    "    x1=mean_age,\n",
    "    y0=20,\n",
    "    y1=1,\n",
    "    line=dict(color='red', width=2, dash='dash')  # Set the color and style of the line\n",
    ")\n",
    "\n",
    "\n",
    "fig.add_annotation(\n",
    "    x=mean_age,\n",
    "    y=20,\n",
    "    text=f'Average: {mean_age:.2f}',  # Display the mean value with 2 decimal places\n",
    "    showarrow=False,\n",
    "    font=dict(color='red')  # Set the color of the annotation text to red\n",
    ")\n",
    "\n",
    "fig.show()\n"
   ]
  },
  {
   "cell_type": "markdown",
   "id": "49ff4a19",
   "metadata": {},
   "source": [
    "**comments**\n",
    "\n",
    "- Approximately 50% of IT specialists fall within the age range of **28 to 36 years**, with an **average age of 32 years**."
   ]
  },
  {
   "cell_type": "markdown",
   "id": "15b72b13",
   "metadata": {},
   "source": [
    "# How does salary vary with age?"
   ]
  },
  {
   "cell_type": "code",
   "execution_count": null,
   "id": "8ddc8aad",
   "metadata": {},
   "outputs": [],
   "source": [
    "import plotly.express as px\n",
    "import pandas as pd\n",
    "fig = px.scatter(df_filtered, y=\"Age\", x=\"salary_brutto\", trendline=\"ols\", trendline_scope=\"overall\")\n",
    "\n",
    "fig.update_layout(\n",
    "    title='Salary vs. Age Correlation',\n",
    "    \n",
    "    xaxis_title='Salary',\n",
    "    yaxis_title='Age',\n",
    "    paper_bgcolor='black',   \n",
    "    plot_bgcolor='black',    \n",
    "    font=dict(color='white'),  \n",
    ")\n",
    "\n",
    "fig.update_xaxes(showline=False, showgrid=False, showticklabels=True, linecolor='black',zeroline=False)  \n",
    "fig.update_yaxes(showline=False, showgrid=False, showticklabels=True, linecolor='black')  \n",
    "fig.update_traces(marker=dict(color='skyblue', size=7))  \n",
    "\n",
    "fig.show()\n"
   ]
  },
  {
   "cell_type": "code",
   "execution_count": null,
   "id": "bbd29385",
   "metadata": {},
   "outputs": [],
   "source": [
    "import statsmodels.api as sm"
   ]
  },
  {
   "cell_type": "code",
   "execution_count": null,
   "id": "a1401754",
   "metadata": {},
   "outputs": [],
   "source": [
    "#Add a constant column to the df_filtered to account for the intercept in the linear regression model:\n",
    "df_filtered['intercept'] = 1\n",
    "X = df_filtered[['intercept', 'Age']]\n",
    "y = df_filtered['salary_brutto']\n",
    "\n",
    "model = sm.OLS(y, X).fit()\n",
    "print(model.summary())"
   ]
  },
  {
   "cell_type": "markdown",
   "id": "dc07ee74",
   "metadata": {},
   "source": [
    "- model suggests that **Age** has a statistically significant but relatively **weak** positive effect on salary_brutto. The model's R-squared is **low**, indicating that **Age alone does not explain much of the variation in salary_brutto.** "
   ]
  },
  {
   "cell_type": "markdown",
   "id": "b879663f",
   "metadata": {},
   "source": [
    "# Job Position "
   ]
  },
  {
   "cell_type": "markdown",
   "id": "dc9dc5d4",
   "metadata": {},
   "source": [
    "- The 'Position' variable, which represents specialists' job positions, contains several errors, including spelling mistakes, some positions being in the German language, and spaces before the apostrophe. To improve the data's organization, it is recommended to group the positions into categories since many of them share the same meaning."
   ]
  },
  {
   "cell_type": "code",
   "execution_count": null,
   "id": "c8d1200e",
   "metadata": {},
   "outputs": [],
   "source": [
    "# Convert values of 'Position' to lowercase\n",
    "df20['Position'] = df20['Position'].str.lower()\n",
    "\n",
    "# Remove spaces before and after words and between single quotes\n",
    "df20['Position'] = df20['Position'].str.strip()\n",
    "df20['Position'] = df20['Position'].str.replace(\" '\", \"'\")\n"
   ]
  },
  {
   "cell_type": "code",
   "execution_count": null,
   "id": "f39ddaab",
   "metadata": {},
   "outputs": [],
   "source": [
    "unique_values = df20['Position'].unique().tolist()\n",
    "print(len(unique_values))\n",
    "print(unique_values)\n"
   ]
  },
  {
   "cell_type": "code",
   "execution_count": null,
   "id": "211446a1",
   "metadata": {},
   "outputs": [],
   "source": [
    "# fixing errors in df20['Position']\n",
    "\n",
    "dics ={'dana analyst': 'data analyst','fullstack engineer, ну или software engineer': 'software engineer',\n",
    "       'stuttgart':'nan','databengineer':'data engineer','agile master ':'agile coach',\n",
    "       'tech lead / full-stack': 'technical lead','it spezialist': 'it consultant','it consulting ':'it consultant',\n",
    "      'data analyst ':'data analyst','analyst':'data analyst','head of it ':'it manager',\n",
    "      'project manager ':'project manager','consultant':'it consultant','hiwi':'student','beikoch':'product manager',\n",
    "       'product management praktikant':'student','software architekt':'architect'}\n",
    "\n",
    "for i in dics:\n",
    "    df20['Position'] = df20['Position'].apply(lambda x:dics.get(i) if (x==i) else x )\n",
    "\n"
   ]
  },
  {
   "cell_type": "markdown",
   "id": "31cf5bc6",
   "metadata": {},
   "source": [
    "- As some job positions share common responsibilities, I have considered grouping them together. Though it is not mandatory, I believe that creating these groups based on specific regulations could enhance the overall data quality of this dataset."
   ]
  },
  {
   "cell_type": "code",
   "execution_count": null,
   "id": "ac4ab53e",
   "metadata": {},
   "outputs": [],
   "source": [
    "df20.dropna(subset=['Position'], how='all', inplace=True)\n"
   ]
  },
  {
   "cell_type": "code",
   "execution_count": null,
   "id": "25661525",
   "metadata": {},
   "outputs": [],
   "source": []
  },
  {
   "cell_type": "markdown",
   "id": "14c963c2",
   "metadata": {},
   "source": [
    "## What are the job positions with the highest number of IT specialists?"
   ]
  },
  {
   "cell_type": "code",
   "execution_count": null,
   "id": "a14ea988",
   "metadata": {},
   "outputs": [],
   "source": [
    "aggregated_data_job"
   ]
  },
  {
   "cell_type": "code",
   "execution_count": null,
   "id": "0990ea1a",
   "metadata": {},
   "outputs": [],
   "source": [
    "# group by position\n",
    "aggregated_data_job = df20.groupby('Position').agg(\n",
    "    Number_of_Specialists=('Position', 'count'),\n",
    "    Average_Salary=('salary_brutto', 'mean'),\n",
    "    Average_Age=('Age','mean')).reset_index()\n",
    "\n",
    "aggregated_data_job=aggregated_data_job.sort_values(by='Number_of_Specialists',ascending=False)[:12]\n",
    "    \n",
    "print(aggregated_data_job['Number_of_Specialists'].sum())   \n"
   ]
  },
  {
   "cell_type": "code",
   "execution_count": null,
   "id": "e4ff075b",
   "metadata": {},
   "outputs": [],
   "source": [
    "fig = go.Figure(data=[go.Table(\n",
    "    header=dict(\n",
    "        values=['Position', 'Number of Specialists'],\n",
    "        fill_color='black',\n",
    "        align='left',\n",
    "        font=dict(size=18,color='white'),  \n",
    "        height=30\n",
    "    ),\n",
    "    cells=dict(\n",
    "        values=[aggregated_data_job['Position'], aggregated_data_job['Number_of_Specialists']],\n",
    "        align='left',\n",
    "        fill_color='lightgrey',\n",
    "        font=dict(size=14, color = 'black'),\n",
    "        height=30\n",
    "    ))\n",
    "])\n",
    "\n",
    "fig.update_layout(\n",
    "    title='Number of specialists by Job Positions (top 12)',\n",
    "    title_x=0.5, \n",
    "    width=1000,  \n",
    "    height=600, \n",
    ")\n",
    "\n",
    "fig.show()"
   ]
  },
  {
   "cell_type": "markdown",
   "id": "7634e274",
   "metadata": {},
   "source": [
    "- I found that the top **job positions** with the highest number of IT specialists is **software engineer**. I also included more positions because I wanted to showcase the significance of the **\"Data Analyst\"** role. "
   ]
  },
  {
   "cell_type": "markdown",
   "id": "defdb3ff",
   "metadata": {},
   "source": [
    "##  What is the average Salary and Age by Job Positions?"
   ]
  },
  {
   "cell_type": "code",
   "execution_count": null,
   "id": "2e4ebda0",
   "metadata": {},
   "outputs": [],
   "source": [
    "# Select the first 7 top positions\n",
    "\n",
    "aggregated_data_job = aggregated_data_job[:7]\n",
    "aggregated_data_job = aggregated_data_job.sort_values(by='Average_Salary',ascending=False)\n",
    "\n",
    "aggregated_data_job['Average_Salary'] = aggregated_data_job['Average_Salary'].apply(lambda x: '€ {:,.0f}'.format(x))\n",
    "aggregated_data_job['Average_Age'] = aggregated_data_job['Average_Age'].apply(lambda x: '{:,.0f} y.o'.format(x))\n",
    "\n",
    "\n"
   ]
  },
  {
   "cell_type": "code",
   "execution_count": null,
   "id": "37044282",
   "metadata": {},
   "outputs": [],
   "source": [
    "fig = go.Figure(data=[go.Table(\n",
    "    header=dict(\n",
    "        values=list(aggregated_data_job.columns),\n",
    "        fill_color='black',\n",
    "        align='left',\n",
    "        font=dict(size=18, color='white'),\n",
    "        height=50),\n",
    "    cells=dict(\n",
    "        values=(aggregated_data_job.Position,aggregated_data_job.Number_of_Specialists,aggregated_data_job.Average_Salary,aggregated_data_job.Average_Age),\n",
    "        fill_color='lightgrey',\n",
    "        align='left',\n",
    "        font=dict(size=14, color='black'),\n",
    "        height=30))])\n",
    "fig.update_layout(\n",
    "    title='Job Positions by Number of Specialists, Age and Salary (top 7 positions)',\n",
    "    title_x=0.5,    width=1000,  height=600,)\n",
    "fig.show()"
   ]
  },
  {
   "cell_type": "code",
   "execution_count": null,
   "id": "197e5fca",
   "metadata": {},
   "outputs": [],
   "source": [
    "aggregated_data_job"
   ]
  },
  {
   "cell_type": "code",
   "execution_count": null,
   "id": "5e8c82db",
   "metadata": {},
   "outputs": [],
   "source": [
    "# We will select only 7 most ussual positons\n",
    "\n",
    "jobs_top7 = aggregated_data_job['Position'].values\n",
    "max_salary = 850000\n",
    "\n",
    "# Use boolean indexing to select data based on multiple conditions\n",
    "selected_data = df20[(df20['Position'].isin(jobs_top7)) & (df20['salary_brutto'] < max_salary)]\n",
    "# Sort the data by 'salary_brutto' in descending order\n",
    "selected_data = selected_data.sort_values(by='salary_brutto', ascending=False)\n"
   ]
  },
  {
   "cell_type": "code",
   "execution_count": null,
   "id": "e731d126",
   "metadata": {},
   "outputs": [],
   "source": [
    "x_data = selected_data['Position'].unique()\n",
    "#N = 50\n",
    "y_data = [selected_data[selected_data['Position'] == position]['salary_brutto'] for position in x_data]\n",
    "\n",
    "colors = ['rgba(93, 164, 214, 0.5)', 'rgba(255, 144, 14, 0.5)', 'rgba(44, 160, 101, 0.5)',\n",
    "          'rgba(255, 65, 54, 0.5)', 'rgba(207, 114, 255, 0.5)', 'rgba(127, 96, 0, 0.5)',\n",
    "          'rgba(200, 65, 54, 0.5)']\n",
    "\n",
    "fig = go.Figure()\n",
    "\n",
    "for xd, yd, cls in zip(x_data, y_data, colors):\n",
    "    fig.add_trace(go.Box(\n",
    "        y=yd,\n",
    "        name=xd,\n",
    "        boxpoints='all',\n",
    "        jitter=0.7,  \n",
    "        whiskerwidth=1,\n",
    "        fillcolor=cls,\n",
    "        marker_size=5,\n",
    "        line_width=2)\n",
    "    )\n",
    "\n",
    "fig.update_layout(\n",
    "    title='Salary Distribution (top 7 Job Positions by nr of Specialists)',\n",
    "    title_x=0.5,\n",
    "    title_font=dict(color='white'),  \n",
    "    xaxis=dict(title='Job Positions', title_font=dict(color='white'),tickfont=dict(color='white')),  \n",
    "    yaxis=dict(\n",
    "        autorange=True,\n",
    "        showgrid=True,\n",
    "        zeroline=True,\n",
    "        dtick=20000,  \n",
    "        gridcolor='black',\n",
    "        gridwidth=1,\n",
    "        zerolinecolor='grey',\n",
    "        zerolinewidth=2,\n",
    "        tickfont=dict(color='white')  \n",
    "    ),\n",
    "    legend_font_color='white',\n",
    "    margin=dict(\n",
    "        l=40,\n",
    "        r=30,\n",
    "        b=30,\n",
    "        t=100,\n",
    "    ),\n",
    "    paper_bgcolor='black',\n",
    "    plot_bgcolor='black',\n",
    "    showlegend=False\n",
    ")\n",
    "\n",
    "fig.show()\n"
   ]
  },
  {
   "cell_type": "code",
   "execution_count": null,
   "id": "79d7e81a",
   "metadata": {},
   "outputs": [],
   "source": [
    "# outlier salary \n",
    "df20[df20['salary_brutto'] >= max_salary]"
   ]
  },
  {
   "cell_type": "code",
   "execution_count": null,
   "id": "5d91808b",
   "metadata": {},
   "outputs": [],
   "source": [
    "aggregated_data_job = df20.groupby('Position').agg(\n",
    "    Number_of_Specialists=('Position', 'count'),\n",
    "    Average_Salary=('salary_brutto', 'mean'),\n",
    "    Average_Age=('Age','mean')).reset_index().sort_values(by='Number_of_Specialists',ascending=False)\n",
    "\n",
    "aggregated_data_job = aggregated_data_job[:12]\n",
    "aggregated_data_job = aggregated_data_job.sort_values(by='Average_Salary',ascending=False)\n",
    "\n",
    "   "
   ]
  },
  {
   "cell_type": "code",
   "execution_count": null,
   "id": "259d04a8",
   "metadata": {},
   "outputs": [],
   "source": [
    "fig = px.bar(aggregated_data_job, x='Position', y='Average_Salary')\n",
    "\n",
    "fig.update_layout(\n",
    "    template=\"plotly_dark\",  \n",
    "    title=\"Average Salary for the Top 12 Most In-Demand Job Positions\",\n",
    "    xaxis_title=\"Job Positions\",\n",
    "    yaxis_title=\"Average Salary\",\n",
    "    xaxis_tickangle=-45,\n",
    ")\n",
    "\n",
    "fig.update_layout(legend=dict(font=dict(color=\"white\")))\n",
    "\n",
    "fig.update_xaxes(ticks=\"inside\", tickcolor=\"white\")\n",
    "fig.update_yaxes(ticks=\"inside\", tickcolor=\"white\")\n",
    "\n",
    "fig.show()"
   ]
  },
  {
   "cell_type": "markdown",
   "id": "a8120d71",
   "metadata": {},
   "source": [
    "- DevOps has the highest salary among the job positions.\n",
    "- There are outliers for every job position, indicating significant salary variations within each role.\n",
    "- The Frontend Developer role has the largest outlier, implying potential high-paying opportunities in that position."
   ]
  },
  {
   "cell_type": "code",
   "execution_count": null,
   "id": "d72b5d92",
   "metadata": {},
   "outputs": [],
   "source": []
  },
  {
   "cell_type": "code",
   "execution_count": null,
   "id": "d8310b41",
   "metadata": {},
   "outputs": [],
   "source": []
  },
  {
   "cell_type": "markdown",
   "id": "33b42a37",
   "metadata": {},
   "source": [
    "# Gender "
   ]
  },
  {
   "cell_type": "code",
   "execution_count": null,
   "id": "4be2dee2",
   "metadata": {},
   "outputs": [],
   "source": [
    "df20['Gender'].unique()"
   ]
  },
  {
   "cell_type": "code",
   "execution_count": null,
   "id": "01d33d3a",
   "metadata": {},
   "outputs": [],
   "source": [
    "# drop null Gender 1%\n",
    "df20.dropna(subset=['Gender'], how='all', inplace=True)"
   ]
  },
  {
   "cell_type": "code",
   "execution_count": null,
   "id": "1d5b2fe2",
   "metadata": {},
   "outputs": [],
   "source": [
    "gender_counts = df20['Gender'].value_counts()\n",
    "fig = go.Figure(data=[go.Pie(\n",
    "    labels=gender_counts.index,\n",
    "    values=gender_counts.values,\n",
    "    hole=0.7,  \n",
    "    marker_colors=['navyblue', 'red', 'grey'],  \n",
    "    textfont_color='white',  \n",
    "    textinfo='label+percent', \n",
    ")])\n",
    "\n",
    "fig.update_layout(\n",
    "    title='Gender Distribution',\n",
    "    title_x=0.5,  \n",
    "    title_font_color='white',  \n",
    "    paper_bgcolor='black',\n",
    "    showlegend=False\n",
    ")\n",
    "fig.show()\n"
   ]
  },
  {
   "cell_type": "code",
   "execution_count": null,
   "id": "b10242e7",
   "metadata": {},
   "outputs": [],
   "source": [
    "gender_salary = df20.groupby('Gender')['salary_brutto'].mean().reset_index()\n",
    "gender_salary"
   ]
  },
  {
   "cell_type": "code",
   "execution_count": null,
   "id": "844478df",
   "metadata": {},
   "outputs": [],
   "source": [
    "fig = px.bar(gender_salary, x='Gender', y='salary_brutto',color='Gender')\n",
    "\n",
    "fig.update_layout(\n",
    "    template=\"plotly_dark\",  \n",
    "    title=\"Average Salary per Gender\",\n",
    "    title_x=0.5,\n",
    "    xaxis_title=\"Gender\",\n",
    "    yaxis_title=\"Average Salary\",\n",
    "    xaxis_tickangle=-45,\n",
    ")\n",
    "\n",
    "fig.update_layout(legend=dict(font=dict(color=\"white\")))\n",
    "\n",
    "fig.update_xaxes(ticks=\"inside\", tickcolor=\"white\")\n",
    "fig.update_yaxes(ticks=\"inside\", tickcolor=\"white\")\n",
    "\n",
    "fig.show()"
   ]
  },
  {
   "cell_type": "code",
   "execution_count": null,
   "id": "0b022b2f",
   "metadata": {},
   "outputs": [],
   "source": [
    "\n",
    "fig_box = go.Figure()\n",
    "category_order = selected_data.groupby('Gender')['salary_brutto'].min().sort_values(ascending=True).index\n",
    "selected_data['Gender'] = pd.Categorical(selected_data['Gender'], category_order)\n",
    "for group, data in selected_data.groupby('Gender'):\n",
    "    text = data.apply(lambda row: f\"Position: {row['Position']}<br>Salary: {row['salary_brutto']} EUR\", axis=1)\n",
    "    marker_size = 5  \n",
    "    fig_box.add_trace(go.Box(\n",
    "        y=data['salary_brutto'],\n",
    "        name=group,\n",
    "        boxpoints='all',\n",
    "        jitter=0.6,  \n",
    "        whiskerwidth=1,\n",
    "        fillcolor='rgba(93, 164, 214, 0.5)',\n",
    "        marker_size=marker_size,  \n",
    "        line_width=2,\n",
    "        text=text,  \n",
    "        hoverinfo='text',  \n",
    "    ))\n",
    "fig_box.update_layout(\n",
    "    title='Salary Distribution by Gender',\n",
    "    title_x=0.5,\n",
    "    yaxis_title='Yearly Brutto Salary (EUR)',\n",
    "    paper_bgcolor='black',  \n",
    "    plot_bgcolor='black',   \n",
    "    font=dict(color='white'),  \n",
    "    yaxis=dict(gridcolor='black', gridwidth=0.1),\n",
    "    showlegend=False\n",
    ") \n",
    "fig_box.show()\n"
   ]
  },
  {
   "cell_type": "code",
   "execution_count": null,
   "id": "ba538302",
   "metadata": {},
   "outputs": [],
   "source": [
    "fig_box = go.Figure()\n",
    "category_order = selected_data.groupby('Gender')['Age'].min().sort_values(ascending=True).index\n",
    "selected_data['Gender'] = pd.Categorical(selected_data['Gender'], category_order)\n",
    "for group, data in selected_data.groupby('Gender'):\n",
    "    text = data.apply(lambda row: f\"Position: {row['Position']}<br>Age: {row['Age']} years\", axis=1)\n",
    "    marker_size = 5  \n",
    "    fig_box.add_trace(go.Box(\n",
    "        y=data['Age'],\n",
    "        name=group,\n",
    "        boxpoints='all',\n",
    "        jitter=0.6,  \n",
    "        whiskerwidth=0.2,\n",
    "        fillcolor='rgba(93, 164, 214, 0.5)',\n",
    "        marker_size=marker_size,  \n",
    "        line_width=1,\n",
    "        text=text,  \n",
    "        hoverinfo='text',  \n",
    "    ))\n",
    "fig_box.update_layout(\n",
    "    title='Age Distribution by Gender',\n",
    "    title_x=0.5,\n",
    "    yaxis_title='Age',\n",
    "    paper_bgcolor='black',  \n",
    "    plot_bgcolor='black',   \n",
    "    font=dict(color='white'),  \n",
    "    yaxis=dict(gridcolor='black', gridwidth=0.1),\n",
    "    showlegend=False\n",
    ") \n",
    "fig_box.show()"
   ]
  },
  {
   "cell_type": "markdown",
   "id": "d85edf85",
   "metadata": {},
   "source": [
    "\n",
    "- The gender distribution shows that **85% of the workforce is male, while 15% are female.\n",
    "- There is a **noticeable salary gap** between men and women,"
   ]
  },
  {
   "cell_type": "markdown",
   "id": "1e88dbf1",
   "metadata": {},
   "source": [
    "# Experience "
   ]
  },
  {
   "cell_type": "code",
   "execution_count": null,
   "id": "0f1187c0",
   "metadata": {},
   "outputs": [],
   "source": [
    "# 'experience_years' column should be converted to Int but contains some nan values\n",
    "# lets modify\n",
    "\n",
    "df20 = df20[pd.to_numeric(df20['experience_years'], errors='coerce').notnull()]\n",
    "df20['experience_years'] = pd.to_numeric(df20['experience_years'], errors='coerce')\n",
    "\n",
    "df20['experience_years'] = df20['experience_years'].astype(int)\n",
    "\n",
    "#fill Age column with the mean Age grouped by Salary\n",
    "df20['experience_years'] = df20['experience_years'].fillna(df20.groupby('seniority_level')['experience_years'].transform('mean'))\n"
   ]
  },
  {
   "cell_type": "markdown",
   "id": "24ac2efd",
   "metadata": {},
   "source": [
    "## How does the salary differ between genders in the same position job and experience level ?"
   ]
  },
  {
   "cell_type": "code",
   "execution_count": null,
   "id": "48b73b14",
   "metadata": {},
   "outputs": [],
   "source": [
    "df20_male = df20[df20['Gender'] == 'Male']\n",
    "df20_female = df20[df20['Gender'] == 'Female']\n",
    "\n",
    "sorted_positions = sorted(df20['Position'].unique())\n",
    "\n",
    "max_experience_years = max(df20['experience_years'].max(), df20['experience_years'].max())\n",
    "\n",
    "fig = make_subplots(rows=1, cols=2, shared_yaxes=True, horizontal_spacing=0.05)\n",
    "\n",
    "fig.add_trace(go.Scatter(\n",
    "    x=df20_female['Position'],\n",
    "    y=df20_female['experience_years'],\n",
    "    mode='markers',\n",
    "    name='Female',\n",
    "    marker=dict(\n",
    "        size=df20_female['salary_brutto'] / 8000,\n",
    "        sizemode='diameter',\n",
    "        sizeref=0.7,  \n",
    "        color='red',\n",
    "        opacity=0.5,\n",
    "        showscale=False,\n",
    "        colorbar=dict(title='Salary')\n",
    "    ),\n",
    "    text=df20_female['Position'] +\n",
    "         '<br>Salary: ' + df20_female['salary_brutto'].astype(str) +\n",
    "         '<br>Years of experience: ' + df20_female['experience_years'].astype(str) +\n",
    "         '<br>Age: ' + df20_female['Age'].astype(str),\n",
    "), row=1, col=1)\n",
    "\n",
    "# Add circles for males\n",
    "fig.add_trace(go.Scatter(\n",
    "    x=df20_male['Position'],\n",
    "    y=df20_male['experience_years'],\n",
    "    mode='markers',\n",
    "    name='Male',\n",
    "    marker=dict(\n",
    "        size=df20_male['salary_brutto'] / 8000,\n",
    "        sizemode='diameter',\n",
    "        sizeref=0.7, \n",
    "        color='blue',\n",
    "        opacity=0.5,\n",
    "        showscale=False,\n",
    "        colorbar=dict(title='Salary')\n",
    "    ),\n",
    "    text=df20_male['Position'] +\n",
    "         '<br>Salary: ' + df20_male['salary_brutto'].astype(str) +\n",
    "         '<br>Years of experience: ' + df20_male['experience_years'].astype(str) +\n",
    "         '<br>Age: ' + df20_male['Age'].astype(str),\n",
    "), row=1, col=2)\n",
    "\n",
    "fig.update_xaxes(categoryorder='array', categoryarray=sorted_positions, row=1, col=1)\n",
    "fig.update_xaxes(categoryorder='array', categoryarray=sorted_positions, row=1, col=2)\n",
    "\n",
    "fig.update_layout(\n",
    "    title='Salary vs Years of experience and Job Position (Gender-wise)',\n",
    "    title_x = 0.5,\n",
    "    xaxis=dict(title=''),\n",
    "    yaxis=dict(title='Years of Experience'),\n",
    "    showlegend=True,\n",
    "    paper_bgcolor='white',  \n",
    "    width=1100,  \n",
    "    height=700,  \n",
    ")\n",
    "fig.update_yaxes(range=[-2, max_experience_years+2], row=1, col=1)\n",
    "fig.update_yaxes(range=[-2, max_experience_years+2], row=1, col=2)\n",
    "\n",
    "fig.show()\n"
   ]
  },
  {
   "cell_type": "code",
   "execution_count": null,
   "id": "cb3becf5",
   "metadata": {},
   "outputs": [],
   "source": [
    "df20 = df20[df20['salary_brutto'] != 850000]\n",
    "df20_male = df20[df20['Gender'] == 'Male']\n",
    "df20_female = df20[df20['Gender'] == 'Female']\n",
    "\n",
    "fig = make_subplots(rows=1, cols=2, shared_yaxes=True, horizontal_spacing=0.05)\n",
    "\n",
    "sorted_positions = sorted(df20['Position'].unique())\n",
    "\n",
    "male_trace = go.Box(x=df20_male['Position'], y=df20_male['salary_brutto'], name='Male', boxpoints='all')\n",
    "fig.add_trace(male_trace, row=1, col=1)\n",
    "\n",
    "female_trace = go.Box(x=df20_female['Position'], y=df20_female['salary_brutto'], name='Female', boxpoints='all')\n",
    "fig.add_trace(female_trace, row=1, col=2)\n",
    "\n",
    "fig.update_layout(title_text=\"Salary by Position for Male and Female Employees\",\n",
    "                  xaxis_title=\"Position\",\n",
    "                  yaxis_title=\"Salary\")\n",
    "\n",
    "fig.show()\n"
   ]
  },
  {
   "cell_type": "code",
   "execution_count": null,
   "id": "6b17ab56",
   "metadata": {},
   "outputs": [],
   "source": [
    "fig_box = go.Figure()\n",
    "category_order = df20.groupby('Gender')['experience_years'].min().sort_values(ascending=True).index\n",
    "df20['Gender'] = pd.Categorical(df20['Gender'], category_order)\n",
    "for group, data in df20.groupby('Gender'):\n",
    "    text = data.apply(lambda row: f\"Position: {row['Position']}<br>Experience years: {row['experience_years']} years\", axis=1)\n",
    "    marker_size = 5  \n",
    "    fig_box.add_trace(go.Box(\n",
    "        y=data['experience_years'],\n",
    "        name=group,\n",
    "        boxpoints='all',\n",
    "        jitter=0.6,  \n",
    "        whiskerwidth=0.2,\n",
    "        fillcolor='rgba(93, 164, 214, 0.5)',\n",
    "        marker_size=marker_size,  \n",
    "        line_width=1,\n",
    "        text=text,  \n",
    "        hoverinfo='text',  \n",
    "    ))\n",
    "fig_box.update_layout(\n",
    "    title='Experience Years Distribution by Gender',\n",
    "    title_x=0.5,\n",
    "    yaxis_title='Experience Years',\n",
    "    paper_bgcolor='black',  \n",
    "    plot_bgcolor='black',   \n",
    "    font=dict(color='white'),  \n",
    "    yaxis=dict(gridcolor='black', gridwidth=0.1),\n",
    "    showlegend=False\n",
    ") \n",
    "fig_box.show()"
   ]
  },
  {
   "cell_type": "markdown",
   "id": "d742e309",
   "metadata": {},
   "source": [
    "-  The women have the **same years of experience as the majority of men**"
   ]
  },
  {
   "cell_type": "code",
   "execution_count": null,
   "id": "396b41b6",
   "metadata": {},
   "outputs": [],
   "source": []
  },
  {
   "cell_type": "code",
   "execution_count": null,
   "id": "939b2268",
   "metadata": {},
   "outputs": [],
   "source": []
  },
  {
   "cell_type": "markdown",
   "id": "66e6311b",
   "metadata": {},
   "source": [
    "# Which City in Germany has the highest concentration of IT specialists? "
   ]
  },
  {
   "cell_type": "code",
   "execution_count": null,
   "id": "f6cd1be9",
   "metadata": {},
   "outputs": [],
   "source": [
    "df20['City'].unique()"
   ]
  },
  {
   "cell_type": "code",
   "execution_count": null,
   "id": "c93406c8",
   "metadata": {},
   "outputs": [],
   "source": [
    "df20[df20['City']=='Prefer not to say']"
   ]
  },
  {
   "cell_type": "code",
   "execution_count": null,
   "id": "7c8ed5a6",
   "metadata": {},
   "outputs": [],
   "source": [
    "df20 = df20[df20['City'] != 'Prefer not to say']"
   ]
  },
  {
   "cell_type": "code",
   "execution_count": null,
   "id": "7ad1882a",
   "metadata": {},
   "outputs": [],
   "source": [
    "dics = {\n",
    "    'France': 'Paris',\n",
    "    'City in Russia':'Moscow',\n",
    "    'Fr':'Paris'\n",
    "}\n",
    "\n",
    "\n",
    "for i in dics:\n",
    "    df20['City'] = df20['City'].apply(lambda x:dics.get(i) if (x==i) else x )\n"
   ]
  },
  {
   "cell_type": "code",
   "execution_count": null,
   "id": "0c2ed392",
   "metadata": {},
   "outputs": [],
   "source": [
    "df20['City'].isnull().sum()"
   ]
  },
  {
   "cell_type": "code",
   "execution_count": null,
   "id": "5d0ac2ef",
   "metadata": {},
   "outputs": [],
   "source": [
    "\n",
    "df = df20.groupby('City')['Position'].count().sort_values(ascending=False).reset_index()[:5]\n",
    "\n",
    "fig = px.bar(df,\n",
    "             x='City',  \n",
    "             y='Position',  \n",
    "             title='City Distribution',   \n",
    "             color='City',  \n",
    "             color_discrete_sequence=px.colors.qualitative.Safe,  \n",
    "             template='plotly_dark',  \n",
    "            )\n",
    "\n",
    "fig.update_layout(\n",
    "    title='Top 5 cities with highest concentration of IT specialists in Germany',\n",
    "    title_x=0.5,  \n",
    "    xaxis_title='City', \n",
    "    yaxis_title='Nr of specialists',  \n",
    "    xaxis=dict(showgrid=False), \n",
    "    yaxis=dict(showgrid=False),showlegend=False\n",
    ")\n",
    "\n",
    "fig.show()\n"
   ]
  },
  {
   "cell_type": "markdown",
   "id": "62e84a20",
   "metadata": {},
   "source": [
    "- **Berlin** has the highest concentration of IT specialists"
   ]
  },
  {
   "cell_type": "markdown",
   "id": "645bd628",
   "metadata": {},
   "source": [
    "## How does Salary across in differnt cities?"
   ]
  },
  {
   "cell_type": "code",
   "execution_count": null,
   "id": "9ab83cd8",
   "metadata": {},
   "outputs": [],
   "source": [
    "df = df20.groupby('City')['salary_brutto'].mean().sort_values(ascending=False).reset_index()[:10]\n"
   ]
  },
  {
   "cell_type": "code",
   "execution_count": null,
   "id": "5fb8dd99",
   "metadata": {},
   "outputs": [],
   "source": [
    "fig = px.bar(df,\n",
    "             x='City',  \n",
    "             y='salary_brutto',  \n",
    "             title='Salary by City',   \n",
    "             color='City',  \n",
    "             color_discrete_sequence=px.colors.qualitative.Safe,  \n",
    "             template='plotly_dark',  \n",
    "            )\n",
    "\n",
    "fig.update_layout(\n",
    "    title='Salary by City',\n",
    "    title_x=0.5,  \n",
    "    xaxis_title='City', \n",
    "    yaxis_title='Average Salary',  \n",
    "    xaxis=dict(showgrid=False), \n",
    "    yaxis=dict(showgrid=False),showlegend=False\n",
    ")\n",
    "\n",
    "fig.show()\n"
   ]
  },
  {
   "cell_type": "markdown",
   "id": "3cb5f03f",
   "metadata": {},
   "source": [
    "# Seniority level"
   ]
  },
  {
   "cell_type": "code",
   "execution_count": null,
   "id": "7e378962",
   "metadata": {},
   "outputs": [],
   "source": [
    "df20['seniority_level'].unique()"
   ]
  },
  {
   "cell_type": "code",
   "execution_count": null,
   "id": "cf83047c",
   "metadata": {},
   "outputs": [],
   "source": [
    "# Convert values of 'Position' to lowercase\n",
    "df20['seniority_level'] = df20['seniority_level'].str.lower()\n",
    "\n",
    "# Remove spaces before and after words and between single quotes\n",
    "df20['seniority_level'] = df20['seniority_level'].str.strip()\n",
    "df20['seniority_level'] = df20['seniority_level'].str.replace(\" '\", \"'\")\n"
   ]
  },
  {
   "cell_type": "code",
   "execution_count": null,
   "id": "0f8e51e6",
   "metadata": {},
   "outputs": [],
   "source": [
    "dics = {\n",
    "    'no idea, there are no ranges in the firm':'senior',\n",
    "    'student':'intern',\n",
    "    'working student': 'intern',\n",
    "    'entry level':'junior',\n",
    "    'c-level':'c-level executive manager',\n",
    "    'work center manager':'manager',\n",
    "    'principal':'head',\n",
    "    'key':'head',\n",
    "    'vp':'vice president',\n",
    "    'cto':'c-level executive manager'\n",
    "}\n",
    "\n",
    "\n",
    "for i in dics:\n",
    "    df20['seniority_level'] = df20['seniority_level'].apply(lambda x:dics.get(i) if (x==i) else x )\n"
   ]
  },
  {
   "cell_type": "code",
   "execution_count": null,
   "id": "9e82873b",
   "metadata": {},
   "outputs": [],
   "source": [
    "df20['seniority_level'].isnull().sum()"
   ]
  },
  {
   "cell_type": "code",
   "execution_count": null,
   "id": "82843271",
   "metadata": {},
   "outputs": [],
   "source": [
    "# drop nan\n",
    "df20.dropna(subset=['seniority_level'], inplace=True)\n"
   ]
  },
  {
   "cell_type": "code",
   "execution_count": null,
   "id": "a66d97e1",
   "metadata": {},
   "outputs": [],
   "source": [
    "df20['salary_brutto'].max()"
   ]
  },
  {
   "cell_type": "code",
   "execution_count": null,
   "id": "ba877d1c",
   "metadata": {},
   "outputs": [],
   "source": [
    "# Use boolean indexing to select data based on multiple conditions\n",
    "selected_data = df20[(df20['salary_brutto'] < max_salary)]\n",
    "\n",
    "df = selected_data.groupby('seniority_level')['salary_brutto'].mean().sort_values(ascending=False).reset_index()\n",
    "df['salary_brutto'] = df['salary_brutto'].round()\n"
   ]
  },
  {
   "cell_type": "markdown",
   "id": "b6102009",
   "metadata": {},
   "source": [
    "## How salary change with increasing seniority level?"
   ]
  },
  {
   "cell_type": "code",
   "execution_count": null,
   "id": "ce503409",
   "metadata": {},
   "outputs": [],
   "source": [
    "fig = px.bar(df,\n",
    "             x='seniority_level',  \n",
    "             y='salary_brutto',  \n",
    "             title='Average Salary by level of seniority',   \n",
    "             color='seniority_level',  \n",
    "             color_discrete_sequence=px.colors.qualitative.Safe,  \n",
    "             template='plotly_dark',  \n",
    "            )\n",
    "\n",
    "fig.update_layout(\n",
    "    title_x=0.5,  \n",
    "    xaxis_title='seniority level', \n",
    "    yaxis_title='salary',  \n",
    "    xaxis=dict(showgrid=False), \n",
    "    yaxis=dict(showgrid=False),showlegend=False\n",
    ")\n",
    "\n",
    "fig.show()"
   ]
  },
  {
   "cell_type": "markdown",
   "id": "32ab7872",
   "metadata": {},
   "source": [
    "- salaries tend to increase as the seniority level rises. However, one particular level stands out: \"Self-Employed\" has the highest salary. This observation is quite understandable, as the compensation for self-employed individuals often includes taxes, contributing to the higher salary figure for this unique category."
   ]
  },
  {
   "cell_type": "code",
   "execution_count": null,
   "id": "9924886f",
   "metadata": {},
   "outputs": [],
   "source": [
    "df20.head()"
   ]
  },
  {
   "cell_type": "code",
   "execution_count": null,
   "id": "055e4f5f",
   "metadata": {},
   "outputs": [],
   "source": [
    "dics = {\n",
    "'Full-time employee':'full-time',\n",
    "'Self-employed (freelancer)':'freelancer',\n",
    "'Company Director':'full-time',\n",
    "'Founder':'full-time',\n",
    "'Part-time employee':'part-time',\n",
    "'working student':'part-time',\n",
    "'Working Student':'part-time',\n",
    "\"Full-time position, part-time position, & self-employed (freelancing, tutoring)\":'full-time',\n",
    "\"full-time, but 32 hours per week (it was my request, I'm a student)\":'part-time',\n",
    "'Werkstudent':'part-time'\n",
    "}\n",
    "\n",
    "for i in dics:\n",
    "    df['emp_state'] = df['emp_state'].apply(lambda x:dics.get(i) if (x==i) else x )"
   ]
  },
  {
   "cell_type": "code",
   "execution_count": null,
   "id": "d256c948",
   "metadata": {},
   "outputs": [],
   "source": [
    "#fill Age column with the mean Age grouped by Salary\n",
    "df20['Age'] = df20['Age'].fillna(df20.groupby('seniority_level')['Age'].transform('mean'))"
   ]
  },
  {
   "cell_type": "code",
   "execution_count": null,
   "id": "189c60b1",
   "metadata": {},
   "outputs": [],
   "source": []
  },
  {
   "cell_type": "code",
   "execution_count": null,
   "id": "50b58b16",
   "metadata": {},
   "outputs": [],
   "source": []
  },
  {
   "cell_type": "code",
   "execution_count": null,
   "id": "60efaba9",
   "metadata": {},
   "outputs": [],
   "source": [
    "df20[df20['seniority_level']=='Senior']"
   ]
  },
  {
   "cell_type": "code",
   "execution_count": null,
   "id": "72212900",
   "metadata": {},
   "outputs": [],
   "source": []
  },
  {
   "cell_type": "code",
   "execution_count": null,
   "id": "f49f18b6",
   "metadata": {},
   "outputs": [],
   "source": []
  },
  {
   "cell_type": "code",
   "execution_count": null,
   "id": "e3b7605e",
   "metadata": {},
   "outputs": [],
   "source": []
  },
  {
   "cell_type": "code",
   "execution_count": null,
   "id": "5ea16702",
   "metadata": {},
   "outputs": [],
   "source": []
  },
  {
   "cell_type": "code",
   "execution_count": null,
   "id": "cc2c43ff",
   "metadata": {},
   "outputs": [],
   "source": []
  },
  {
   "cell_type": "code",
   "execution_count": null,
   "id": "63b7fbb6",
   "metadata": {},
   "outputs": [],
   "source": []
  }
 ],
 "metadata": {
  "celltoolbar": "Raw Cell Format",
  "kernelspec": {
   "display_name": "Python 3 (ipykernel)",
   "language": "python",
   "name": "python3"
  },
  "language_info": {
   "codemirror_mode": {
    "name": "ipython",
    "version": 3
   },
   "file_extension": ".py",
   "mimetype": "text/x-python",
   "name": "python",
   "nbconvert_exporter": "python",
   "pygments_lexer": "ipython3",
   "version": "3.9.13"
  },
  "toc": {
   "base_numbering": 1,
   "nav_menu": {},
   "number_sections": true,
   "sideBar": true,
   "skip_h1_title": false,
   "title_cell": "Table of Contents",
   "title_sidebar": "Contents",
   "toc_cell": false,
   "toc_position": {
    "height": "calc(100% - 180px)",
    "left": "10px",
    "top": "150px",
    "width": "294px"
   },
   "toc_section_display": true,
   "toc_window_display": true
  }
 },
 "nbformat": 4,
 "nbformat_minor": 5
}
